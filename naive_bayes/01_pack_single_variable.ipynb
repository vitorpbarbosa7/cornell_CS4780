{
 "cells": [
  {
   "cell_type": "code",
   "execution_count": 25,
   "id": "7dc35f34",
   "metadata": {
    "ExecuteTime": {
     "end_time": "2023-04-04T10:19:17.462582Z",
     "start_time": "2023-04-04T10:19:17.458756Z"
    }
   },
   "outputs": [],
   "source": [
    "import numpy as np\n",
    "from numpy import array as ar\n",
    "import pandas as pd\n",
    "\n",
    "X = ar([1,1,1,1,1,2,2,2,2,2])\n",
    "\n",
    "Y = ar([0,0,0,1,0,1,0,0,0,0])\n",
    "\n",
    "class NaiveBayesSingleVar:\n",
    "    \n",
    "    \n",
    "    def __init__(X_trian, )\n",
    "\n",
    "y_unique = np.unique(Y)\n",
    "\n",
    "y_count = len(y_unique)\n",
    "\n",
    "x_unique = np.unique(X)\n",
    "\n",
    "x_count = len(x_unique)\n",
    "\n",
    "X_given_y = [X[Y == y] for y in np.unique(Y)]\n",
    "\n",
    "X_given_y\n",
    "\n",
    "X[(X == 1) & (Y == 0)]\n",
    "\n",
    "prob_table\n",
    "\n",
    "prob_table = np.zeros((x_count,y_count))\n",
    "priors = np.zeros(y_count)\n",
    "x_normalization = np.zeros(x_count)\n",
    "n_points = len(Y)\n",
    "for i, x in enumerate(np.unique(X)):\n",
    "    x_normalization[i] = len(X[X == x])/n_points\n",
    "    for j, y in enumerate(np.unique(Y)):\n",
    "        denominator = len(Y[Y == y])\n",
    "        \n",
    "        numerator = len(X[(X == x) & (Y == y)])\n",
    "        prob = numerator/denominator\n",
    "        prob_table[i,j] = prob\n",
    "\n",
    "for j, y in enumerate(np.unique(Y)):\n",
    "    denominator = len(Y[Y == y])\n",
    "    priors[j] = denominator/n_points\n",
    "    \n",
    "\n",
    "prob_table\n",
    "\n",
    "prob_table = pd.DataFrame(prob_table, columns = x_unique, index = y_unique)\n",
    "\n",
    "priors = pd.DataFrame(priors, index = y_unique)\n",
    "\n",
    "x_normalization = pd.DataFrame(x_normalization, index = x_unique)\n",
    "\n",
    "X_test = ar([1])\n",
    "\n",
    "predict_proba = np.ones(len(y_unique))\n",
    "for i,y in enumerate(y_unique):\n",
    "    x_value = X_test[0]\n",
    "    likelihood = prob_table[x_value][y]\n",
    "    prior = priors.loc[y]\n",
    "    x_norm = x_normalization.loc[x_value]\n",
    "    \n",
    "    predict_proba[i] = (likelihood*prior)/x_norm\n",
    "\n",
    "predict_proba"
   ]
  }
 ],
 "metadata": {
  "kernelspec": {
   "display_name": "Python 3 (ipykernel)",
   "language": "python",
   "name": "python3"
  },
  "language_info": {
   "codemirror_mode": {
    "name": "ipython",
    "version": 3
   },
   "file_extension": ".py",
   "mimetype": "text/x-python",
   "name": "python",
   "nbconvert_exporter": "python",
   "pygments_lexer": "ipython3",
   "version": "3.8.15"
  },
  "toc": {
   "base_numbering": 1,
   "nav_menu": {},
   "number_sections": true,
   "sideBar": true,
   "skip_h1_title": false,
   "title_cell": "Table of Contents",
   "title_sidebar": "Contents",
   "toc_cell": false,
   "toc_position": {},
   "toc_section_display": true,
   "toc_window_display": false
  }
 },
 "nbformat": 4,
 "nbformat_minor": 5
}
