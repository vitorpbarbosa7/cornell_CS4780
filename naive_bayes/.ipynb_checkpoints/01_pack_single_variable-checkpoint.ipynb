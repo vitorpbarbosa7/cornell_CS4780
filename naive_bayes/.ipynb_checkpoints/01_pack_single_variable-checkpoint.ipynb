{
 "cells": [
  {
   "cell_type": "code",
   "execution_count": 219,
   "id": "66e33807",
   "metadata": {
    "ExecuteTime": {
     "end_time": "2023-04-05T11:54:54.829474Z",
     "start_time": "2023-04-05T11:54:54.770007Z"
    }
   },
   "outputs": [
    {
     "name": "stdout",
     "output_type": "stream",
     "text": [
      "[0 1]\n",
      "[2 3 7]\n"
     ]
    }
   ],
   "source": [
    "import numpy as np\n",
    "from numpy import array as ar\n",
    "import pandas as pd\n",
    "\n",
    "class NaiveBayesSingleVar:\n",
    "\n",
    "    def __init__(self):\n",
    "         pass\n",
    "        \n",
    "    def fit(self, X_train, Y_train):\n",
    "\n",
    "        self.Y_unique = np.unique(Y_train)\n",
    "        print(self.Y_unique)\n",
    "        \n",
    "        self.y_count = len(self.Y_unique)\n",
    "        self.X_unique = np.unique(X_train)\n",
    "        print(self.X_unique)\n",
    "        \n",
    "        self.x_count = len(self.X_unique)\n",
    "        self.__X_given_y = [X_train[Y_train == y] for y in np.unique(Y_train)]\n",
    "\n",
    "        prob_table = np.zeros((self.x_count,self.y_count))\n",
    "        priors = np.zeros(self.y_count)\n",
    "        x_normalization = np.zeros(self.x_count)\n",
    "        n_points = len(Y_train)\n",
    "        for i, x in enumerate(self.X_unique):\n",
    "            x_normalization[i] = len(X_train[X_train == x])/n_points\n",
    "            for j, y in enumerate(self.Y_unique):\n",
    "                denominator = len(Y_train[Y_train == y])\n",
    "                \n",
    "                numerator = len(X_train[(X_train == x) & (Y_train == y)])\n",
    "                prob = numerator/denominator\n",
    "                prob_table[i,j] = prob\n",
    "\n",
    "        for j, y in enumerate(self.Y_unique):\n",
    "            denominator = len(Y_train[Y_train == y])\n",
    "            priors[j] = denominator/n_points\n",
    "\n",
    "        self.prob_table = pd.DataFrame(prob_table.T, columns = self.X_unique, index = self.Y_unique)\n",
    "        self.priors = pd.DataFrame(priors, index = self.Y_unique)\n",
    "        self.x_normalization = pd.DataFrame(x_normalization, index = self.X_unique)\n",
    "\n",
    "\n",
    "    def predict_proba(self, X_test):\n",
    "\n",
    "        x_test_len = len(X_test)\n",
    "\n",
    "        results = np.ones((x_test_len, len(self.Y_unique)))\n",
    "        for i, x_test in enumerate(X_test):\n",
    "            for j,y in enumerate(self.Y_unique):\n",
    "                likelihood = self.prob_table[x_test][y]\n",
    "                prior = self.priors.loc[y]\n",
    "                x_norm =self.x_normalization.loc[x_test]\n",
    "                \n",
    "                results[i,j] = (likelihood*prior)/x_norm\n",
    "\n",
    "        return results\n",
    "\n",
    "\n",
    "if __name__ == '__main__':\n",
    "    X_train = ar([3,3,3,3,3,2,2,2,2,2,7])\n",
    "    Y_train = ar([0,1,0,1,1,0,1,1,0,0,0])\n",
    "\n",
    "    naivebayes_single_var = NaiveBayesSingleVar()\n",
    "    naivebayes_single_var.fit(X_train, Y_train)\n",
    "\n",
    "    X_test = ar([3,2])\n",
    "\n",
    "    results = naivebayes_single_var.predict_proba(X_test)\n",
    "\n",
    "#     print(results)\n"
   ]
  },
  {
   "cell_type": "code",
   "execution_count": null,
   "id": "44d0ef16",
   "metadata": {},
   "outputs": [],
   "source": []
  },
  {
   "cell_type": "code",
   "execution_count": null,
   "id": "ff8bd48d",
   "metadata": {},
   "outputs": [],
   "source": []
  },
  {
   "cell_type": "code",
   "execution_count": null,
   "id": "8256f8be",
   "metadata": {},
   "outputs": [],
   "source": []
  },
  {
   "cell_type": "code",
   "execution_count": null,
   "id": "e2353a62",
   "metadata": {},
   "outputs": [],
   "source": []
  },
  {
   "cell_type": "markdown",
   "id": "f087229d",
   "metadata": {
    "ExecuteTime": {
     "end_time": "2023-04-05T11:27:04.164398Z",
     "start_time": "2023-04-05T11:27:04.161351Z"
    }
   },
   "source": [
    "# test data\n",
    "## https://medium.com/@rangavamsi5/naïve-bayes-algorithm-implementation-from-scratch-in-python-7b2cc39268b9"
   ]
  },
  {
   "cell_type": "code",
   "execution_count": 206,
   "id": "8c377675",
   "metadata": {
    "ExecuteTime": {
     "end_time": "2023-04-05T11:40:47.377731Z",
     "start_time": "2023-04-05T11:40:47.365844Z"
    }
   },
   "outputs": [],
   "source": [
    "df = pd.read_csv('naivebayes/toy_data.csv')\n",
    "\n",
    "X_train = df.drop('Play', axis = 1).values.T\n",
    "\n",
    "X_train\n",
    "\n",
    "Y_train = df['Play'].values"
   ]
  },
  {
   "cell_type": "code",
   "execution_count": 207,
   "id": "1f48cd3d",
   "metadata": {
    "ExecuteTime": {
     "end_time": "2023-04-05T11:40:49.291779Z",
     "start_time": "2023-04-05T11:40:49.285908Z"
    }
   },
   "outputs": [
    {
     "data": {
      "text/plain": [
       "array([['Rainy', 'Rainy', 'Overcast', 'Sunny', 'Sunny', 'Sunny',\n",
       "        'Overcast', 'Rainy', 'Rainy', 'Sunny', 'Rainy', 'Overcast',\n",
       "        'Overcast', 'Sunny'],\n",
       "       ['Hot', 'Hot', 'Hot', 'Mild', 'Cool', 'Cool', 'Cool', 'Mild',\n",
       "        'Cool', 'Mild', 'Mild', 'Mild', 'Hot', 'Mild'],\n",
       "       ['High', 'High', 'High', 'High', 'Normal', 'Normal', 'Normal',\n",
       "        'High', 'Normal', 'Normal', 'Normal', 'High', 'Normal', 'High'],\n",
       "       ['f', 't', 'f', 'f', 'f', 't', 't', 'f', 'f', 'f', 't', 't', 'f',\n",
       "        't']], dtype=object)"
      ]
     },
     "execution_count": 207,
     "metadata": {},
     "output_type": "execute_result"
    }
   ],
   "source": [
    "X_train[:,]"
   ]
  },
  {
   "cell_type": "code",
   "execution_count": 208,
   "id": "29e0ac90",
   "metadata": {
    "ExecuteTime": {
     "end_time": "2023-04-05T11:40:50.443241Z",
     "start_time": "2023-04-05T11:40:50.431816Z"
    }
   },
   "outputs": [
    {
     "name": "stdout",
     "output_type": "stream",
     "text": [
      "['no' 'yes']\n",
      "['Overcast' 'Rainy' 'Sunny']\n",
      "['no' 'yes']\n",
      "['Cool' 'Hot' 'Mild']\n",
      "['no' 'yes']\n",
      "['High' 'Normal']\n",
      "['no' 'yes']\n",
      "['f' 't']\n"
     ]
    }
   ],
   "source": [
    "__prob_table_dd = []\n",
    "__X_normalization_dd = []\n",
    "\n",
    "for X_train_single_feature in X_train[:,]:\n",
    "    naivebayes_single_var = NaiveBayesSingleVar()\n",
    "    naivebayes_single_var.fit(X_train_single_feature, Y_train)\n",
    "\n",
    "    __prob_table_dd.append(naivebayes_single_var.prob_table)\n",
    "    __X_normalization_dd.append(naivebayes_single_var.x_normalization)\n",
    "\n",
    "__priors = naivebayes_single_var.priors\n",
    "\n",
    "Y_unique = np.unique(Y_train)"
   ]
  },
  {
   "cell_type": "code",
   "execution_count": 213,
   "id": "cb82aaf3",
   "metadata": {
    "ExecuteTime": {
     "end_time": "2023-04-05T11:40:53.652858Z",
     "start_time": "2023-04-05T11:40:53.648777Z"
    }
   },
   "outputs": [],
   "source": [
    "X_test = X_test.T"
   ]
  },
  {
   "cell_type": "code",
   "execution_count": 214,
   "id": "661f89fb",
   "metadata": {
    "ExecuteTime": {
     "end_time": "2023-04-05T11:40:53.986025Z",
     "start_time": "2023-04-05T11:40:53.980610Z"
    }
   },
   "outputs": [
    {
     "data": {
      "text/plain": [
       "array([3, 2])"
      ]
     },
     "execution_count": 214,
     "metadata": {},
     "output_type": "execute_result"
    }
   ],
   "source": [
    "X_test"
   ]
  },
  {
   "cell_type": "code",
   "execution_count": 215,
   "id": "90f65597",
   "metadata": {
    "ExecuteTime": {
     "end_time": "2023-04-05T11:40:54.739130Z",
     "start_time": "2023-04-05T11:40:54.735236Z"
    }
   },
   "outputs": [],
   "source": [
    "X_test = ar([['Rainy','Mild','Normal','t']])"
   ]
  },
  {
   "cell_type": "code",
   "execution_count": 216,
   "id": "0af9d8e7",
   "metadata": {
    "ExecuteTime": {
     "end_time": "2023-04-05T11:40:55.235886Z",
     "start_time": "2023-04-05T11:40:55.223615Z"
    }
   },
   "outputs": [
    {
     "name": "stdout",
     "output_type": "stream",
     "text": [
      "     Overcast     Rainy     Sunny\n",
      "no   0.000000  0.600000  0.400000\n",
      "yes  0.444444  0.222222  0.333333\n",
      "     Overcast     Rainy     Sunny\n",
      "no   0.000000  0.600000  0.400000\n",
      "yes  0.444444  0.222222  0.333333\n",
      "     Overcast     Rainy     Sunny\n",
      "no   0.000000  0.600000  0.400000\n",
      "yes  0.444444  0.222222  0.333333\n",
      "     Overcast     Rainy     Sunny\n",
      "no   0.000000  0.600000  0.400000\n",
      "yes  0.444444  0.222222  0.333333\n"
     ]
    }
   ],
   "source": [
    "for i in range(X_train[:,].shape[0]):\n",
    "   print(__prob_table_dd[0])"
   ]
  },
  {
   "cell_type": "code",
   "execution_count": 217,
   "id": "1aa48887",
   "metadata": {
    "ExecuteTime": {
     "end_time": "2023-04-05T11:40:55.960325Z",
     "start_time": "2023-04-05T11:40:55.947053Z"
    }
   },
   "outputs": [
    {
     "name": "stdout",
     "output_type": "stream",
     "text": [
      "['Rainy' 'Mild' 'Normal' 't']\n",
      "0\n"
     ]
    }
   ],
   "source": [
    "results = np.zeros((X_test.shape[0], len(Y_unique)))\n",
    "for i, x_test in enumerate(X_test):\n",
    "    print(x_test)\n",
    "    print(i)\n",
    "    for j, y in enumerate(Y_unique):\n",
    "\n",
    "        likelihood = []\n",
    "        prior = __priors.loc[y][0]\n",
    "        x_norm = []\n",
    "        \n",
    "        # Naive Bayes Assumption of independence among dimensions\n",
    "        for d in range(X_train[:,].shape[0]):\n",
    "            x_test_d = x_test[d]\n",
    "            \n",
    "            likelihood.append(__prob_table_dd[d][x_test_d][y])\n",
    "            x_norm.append(__X_normalization_dd[d].loc[x_test_d])\n",
    "        \n",
    "        likelihood_prod = np.prod(likelihood)\n",
    "#         print(likelihood_prod)\n",
    "        posterior_numerator = likelihood_prod*prior\n",
    "#         print(posterior_numerator)\n",
    "        posterior_denominator = np.prod(x_norm)\n",
    "#         print(posterior_denominator)\n",
    "\n",
    "        posterior = posterior_numerator/posterior_denominator\n",
    "        \n",
    "        results[i,j] = posterior"
   ]
  },
  {
   "cell_type": "code",
   "execution_count": 218,
   "id": "8c886ab6",
   "metadata": {
    "ExecuteTime": {
     "end_time": "2023-04-05T11:40:56.627787Z",
     "start_time": "2023-04-05T11:40:56.621960Z"
    }
   },
   "outputs": [
    {
     "data": {
      "text/plain": [
       "array([[0.3136    , 0.43017833]])"
      ]
     },
     "execution_count": 218,
     "metadata": {},
     "output_type": "execute_result"
    }
   ],
   "source": [
    "results"
   ]
  }
 ],
 "metadata": {
  "kernelspec": {
   "display_name": "Python 3 (ipykernel)",
   "language": "python",
   "name": "python3"
  },
  "language_info": {
   "codemirror_mode": {
    "name": "ipython",
    "version": 3
   },
   "file_extension": ".py",
   "mimetype": "text/x-python",
   "name": "python",
   "nbconvert_exporter": "python",
   "pygments_lexer": "ipython3",
   "version": "3.8.15"
  },
  "toc": {
   "base_numbering": 1,
   "nav_menu": {},
   "number_sections": true,
   "sideBar": true,
   "skip_h1_title": false,
   "title_cell": "Table of Contents",
   "title_sidebar": "Contents",
   "toc_cell": false,
   "toc_position": {},
   "toc_section_display": true,
   "toc_window_display": false
  }
 },
 "nbformat": 4,
 "nbformat_minor": 5
}
