{
 "cells": [
  {
   "cell_type": "markdown",
   "metadata": {},
   "source": [
    "<body>\n",
    "<h2>Project 5: Bias Variance Trade-Off</h2>\n",
    "\n",
    "<!--announcements-->\n",
    "<blockquote>\n",
    "    <center>\n",
    "    <a href=\"http://blogs.worldbank.org/publicsphere/files/publicsphere/biased_processing.jpg\"><img src=\"bias.jpg\" width=\"600px\" /></a>\n",
    "    </center>\n",
    "      <p><cite><center>\"All of us show bias when it comes to what information we take in.<br>We typically focus on anything that agrees with the outcome we want.\"<br>\n",
    "<b>--Noreena Hertz</b>\n",
    "      </center></cite></p>\n",
    "</blockquote>\n",
    "<h3>Introduction</h3>\n",
    "\n",
    "<p>\n",
    "Recall that the squared error can be decomposed into <em>bias</em>, <em>variance</em> and <em>noise</em>: \n",
    "$$\n",
    "    \\underbrace{\\mathbb{E}[(h_D(x) - y)^2]}_\\mathrm{Error} = \\underbrace{\\mathbb{E}[(h_D(x)-\\bar{h}(x))^2]}_\\mathrm{Variance} + \\underbrace{\\mathbb{E}[(\\bar{h}(x)-\\bar{y}(x))^2]}_\\mathrm{Bias} + \\underbrace{\\mathbb{E}[(\\bar{y}(x)-y(x))^2]}_\\mathrm{Noise}\\nonumber\n",
    "$$\n",
    "We will now create a data set for which we can approximately compute this decomposition. \n",
    "The function <em><strong>`toydata`</strong></em> generates a binary data set with class $1$ and $2$. Both are sampled from Gaussian distributions:\n",
    "$$\n",
    "p(\\vec x|y=1)\\sim {\\mathcal{N}}(0,{I}) \\textrm { and } p(\\vec x|y=2)\\sim {\\mathcal{N}}(\\mu_2,{I}),\n",
    "$$\n",
    "\n",
    "where $\\mu_2=[2;2]^\\top$ (the global variable <em>OFFSET</em> $\\!=\\!2$ regulates these values: $\\mu_2=[$<em>OFFSET</em> $;$ <em>OFFSET</em>$]^\\top$).\n",
    "</p>\n",
    "\n",
    "<h3>Computing noise, bias and variance</h3>\n",
    "<p>\n",
    "You will need to edit four functions:  <em><strong>`computeybar`</strong></em>,  <em><strong>`computehbar`</strong></em>, and <em><strong>`computevariance`</strong></em>. First take a look at <strong>`biasvariancedemo`</strong> and make sure you understand where each function should be called and how they contribute to the Bias/Variance/Noise decomposition. <br/><br/>\n",
    "</p>"
   ]
  },
  {
   "cell_type": "markdown",
   "metadata": {},
   "source": [
    "**Libraries**: Before we get started we need to install a few libraries. You can do this by executing the following code."
   ]
  },
  {
   "cell_type": "code",
   "execution_count": 1,
   "metadata": {
    "ExecuteTime": {
     "end_time": "2023-06-16T09:54:13.701396Z",
     "start_time": "2023-06-16T09:54:13.542852Z"
    }
   },
   "outputs": [],
   "source": [
    "#<GRADED>\n",
    "import numpy as np\n",
    "from numpy.matlib import repmat\n",
    "#</GRADED>"
   ]
  },
  {
   "cell_type": "code",
   "execution_count": 2,
   "metadata": {
    "ExecuteTime": {
     "end_time": "2023-06-16T09:54:14.402416Z",
     "start_time": "2023-06-16T09:54:13.733635Z"
    },
    "scrolled": true
   },
   "outputs": [],
   "source": [
    "import matplotlib.pyplot as plt\n",
    "import sys\n",
    "from scipy.io import loadmat\n",
    "import time\n",
    "\n",
    "%matplotlib inline"
   ]
  },
  {
   "cell_type": "markdown",
   "metadata": {},
   "source": [
    "**`l2distance` Helper Function**: `l2distance` is a helper function used in our implementation of the ridge regression."
   ]
  },
  {
   "cell_type": "code",
   "execution_count": 3,
   "metadata": {
    "ExecuteTime": {
     "end_time": "2023-06-16T09:54:14.406580Z",
     "start_time": "2023-06-16T09:54:14.403922Z"
    }
   },
   "outputs": [],
   "source": [
    "#<GRADED>"
   ]
  },
  {
   "cell_type": "code",
   "execution_count": 4,
   "metadata": {
    "ExecuteTime": {
     "end_time": "2023-06-16T09:54:14.413708Z",
     "start_time": "2023-06-16T09:54:14.408211Z"
    }
   },
   "outputs": [],
   "source": [
    "def l2distance(X, Z=None):\n",
    "    \"\"\"\n",
    "    function D=l2distance(X,Z)\n",
    "\n",
    "    Computes the Euclidean distance matrix.\n",
    "    Syntax:\n",
    "    D=l2distance(X,Z)\n",
    "    Input:\n",
    "    X: dxn data matrix with n vectors (columns) of dimensionality d\n",
    "    Z: dxm data matrix with m vectors (columns) of dimensionality d\n",
    "\n",
    "    Output:\n",
    "    Matrix D of size nxm\n",
    "    D(i,j) is the Euclidean distance of X(:,i) and Z(:,j)\n",
    "\n",
    "    call with only one input:\n",
    "    l2distance(X)=l2distance(X,X)\n",
    "    \"\"\"\n",
    "    if Z is None:\n",
    "        n, d = X.shape\n",
    "        s1 = np.sum(np.power(X, 2), axis=1).reshape(-1,1)\n",
    "        D1 = -2 * np.dot(X, X.T) + repmat(s1, 1, n)\n",
    "        D = D1 + repmat(s1.T, n, 1)\n",
    "        np.fill_diagonal(D, 0)\n",
    "        D = np.sqrt(np.maximum(D, 0))\n",
    "    else:\n",
    "        n, d = X.shape\n",
    "        m, _ = Z.shape\n",
    "        s1 = np.sum(np.power(X, 2), axis=1).reshape(-1,1)\n",
    "        s2 = np.sum(np.power(Z, 2), axis=1).reshape(1,-1)\n",
    "        D1 = -2 * np.dot(X, Z.T) + repmat(s1, 1, m)\n",
    "        D = D1 + repmat(s2, n, 1)\n",
    "        D = np.sqrt(np.maximum(D, 0))\n",
    "    return D\n"
   ]
  },
  {
   "cell_type": "code",
   "execution_count": 5,
   "metadata": {
    "ExecuteTime": {
     "end_time": "2023-06-16T09:54:14.698013Z",
     "start_time": "2023-06-16T09:54:14.694565Z"
    }
   },
   "outputs": [],
   "source": [
    "#</GRADED>"
   ]
  },
  {
   "cell_type": "markdown",
   "metadata": {},
   "source": [
    "**`toydata` Helper Function**: `toydata` is a helper function used to generate the the binary data with n/2 values in class 1 and n/2 values in class 2. With class 1 being the label for data drawn from a normal distribution having mean 0 and sigma 1. And clss 2 being the label for data drawn from a normal distribution with mean OFFSET and sigma 1."
   ]
  },
  {
   "cell_type": "code",
   "execution_count": 6,
   "metadata": {
    "ExecuteTime": {
     "end_time": "2023-06-16T09:54:15.175958Z",
     "start_time": "2023-06-16T09:54:15.172493Z"
    }
   },
   "outputs": [],
   "source": [
    "#<GRADED>"
   ]
  },
  {
   "cell_type": "code",
   "execution_count": 7,
   "metadata": {
    "ExecuteTime": {
     "end_time": "2023-06-16T09:54:16.403475Z",
     "start_time": "2023-06-16T09:54:16.396932Z"
    }
   },
   "outputs": [],
   "source": [
    "def toydata(OFFSET,N):\n",
    "    \"\"\"\n",
    "    function [x,y]=toydata(OFFSET,N)\n",
    "    \n",
    "    This function constructs a binary data set. \n",
    "    Each class is distributed by a standard Gaussian distribution.\n",
    "    INPUT: \n",
    "    OFFSET:  Class 1 has mean 0,  Class 2 has mean 0+OFFSET (in each dimension). \n",
    "    N: The function returns N data points ceil(N/2) are of class 2, the rest\n",
    "    of class 1\n",
    "    \"\"\"\n",
    "    \n",
    "    NHALF = int(np.ceil(N/2))\n",
    "    x = np.random.randn(N, 2)\n",
    "    x[NHALF:, :] += OFFSET  \n",
    "    \n",
    "    y = np.ones(N)\n",
    "    y[NHALF:] *= 2\n",
    "    \n",
    "    jj = np.random.permutation(N)\n",
    "    return x[jj, :], y[jj]"
   ]
  },
  {
   "cell_type": "code",
   "execution_count": 8,
   "metadata": {
    "ExecuteTime": {
     "end_time": "2023-06-16T09:54:16.546166Z",
     "start_time": "2023-06-16T09:54:16.540568Z"
    }
   },
   "outputs": [],
   "source": [
    "#</GRADED>"
   ]
  },
  {
   "cell_type": "markdown",
   "metadata": {},
   "source": [
    "<p>\n",
    "(a) <strong>Noise:</strong> First we focus on the noise. For this, you need to compute $\\bar y(\\vec x)$ in  <em><strong>`computeybar`</strong></em>. You can compute the probability $p(\\vec x|y)$ with the equations $p(\\vec x|y=1)\\sim {\\mathcal{N}}(0,{I}) \\textrm { and } p(\\vec x|y=2)\\sim {\\mathcal{N}}(\\mu_2,{I})$. Then use Bayes rule to compute $p(y|\\vec x)$. <br/><br/>\n",
    "<strong>Note:</strong> You may want to use the function <em>`normpdf`</em>, which is defined for  you in <em><strong>`computeybar`</strong></em>.\n",
    "<br/><br/></p>\n"
   ]
  },
  {
   "cell_type": "code",
   "execution_count": 9,
   "metadata": {
    "ExecuteTime": {
     "end_time": "2023-06-16T09:54:16.875543Z",
     "start_time": "2023-06-16T09:54:16.871023Z"
    }
   },
   "outputs": [],
   "source": [
    "#<GRADED>"
   ]
  },
  {
   "cell_type": "code",
   "execution_count": 10,
   "metadata": {
    "ExecuteTime": {
     "end_time": "2023-06-16T09:54:17.900488Z",
     "start_time": "2023-06-16T09:54:17.895824Z"
    }
   },
   "outputs": [],
   "source": [
    "normpdf = lambda x, mu, sigma: np.exp(-0.5 * np.power((x - mu) / sigma, 2)) / (np.sqrt(2 * np.pi) * sigma)"
   ]
  },
  {
   "cell_type": "code",
   "execution_count": 11,
   "metadata": {
    "ExecuteTime": {
     "end_time": "2023-06-16T09:54:18.060225Z",
     "start_time": "2023-06-16T09:54:18.055917Z"
    }
   },
   "outputs": [],
   "source": [
    "OFFSET = 1"
   ]
  },
  {
   "cell_type": "code",
   "execution_count": 12,
   "metadata": {
    "ExecuteTime": {
     "end_time": "2023-06-16T09:54:18.229622Z",
     "start_time": "2023-06-16T09:54:18.219071Z"
    }
   },
   "outputs": [],
   "source": [
    "X, y = toydata(OFFSET,100)\n",
    "\n",
    "X_one = X[np.where(y==1)]\n",
    "X_two = X[np.where(y==2)]"
   ]
  },
  {
   "cell_type": "code",
   "execution_count": 13,
   "metadata": {
    "ExecuteTime": {
     "end_time": "2023-06-16T09:54:18.502340Z",
     "start_time": "2023-06-16T09:54:18.384701Z"
    }
   },
   "outputs": [
    {
     "data": {
      "text/plain": [
       "<matplotlib.collections.PathCollection at 0x7fec28926670>"
      ]
     },
     "execution_count": 13,
     "metadata": {},
     "output_type": "execute_result"
    },
    {
     "data": {
      "image/png": "[encoded data removed]",
      "text/plain": [
       "<Figure size 432x288 with 1 Axes>"
      ]
     },
     "metadata": {
      "needs_background": "light"
     },
     "output_type": "display_data"
    }
   ],
   "source": [
    "plt.scatter(X_one[:,0], X_one[:,1])\n",
    "plt.scatter(X_two[:,0], X_two[:,1])"
   ]
  },
  {
   "cell_type": "code",
   "execution_count": 14,
   "metadata": {
    "ExecuteTime": {
     "end_time": "2023-06-16T09:54:18.607707Z",
     "start_time": "2023-06-16T09:54:18.604998Z"
    }
   },
   "outputs": [],
   "source": [
    "# distribuicao de probabilidade de x para o label 1 \n",
    "pxy_one = normpdf(X_one, np.zeros(2), np.ones(2))\n",
    "\n",
    "# distribuicao de probabilidade de x para o label 2\n",
    "pxy_two = normpdf(X_two, np.array([OFFSET]*X_two.shape[1]), np.ones(2))"
   ]
  },
  {
   "cell_type": "code",
   "execution_count": 15,
   "metadata": {
    "ExecuteTime": {
     "end_time": "2023-06-16T09:54:18.856650Z",
     "start_time": "2023-06-16T09:54:18.849206Z"
    }
   },
   "outputs": [],
   "source": [
    "p_prior_one = y[y==1].shape[0]/y.shape[0]\n",
    "p_prior_two = y[y==2].shape[0]/y.shape[0]"
   ]
  },
  {
   "cell_type": "code",
   "execution_count": 16,
   "metadata": {
    "ExecuteTime": {
     "end_time": "2023-06-16T09:54:19.021634Z",
     "start_time": "2023-06-16T09:54:19.015398Z"
    }
   },
   "outputs": [],
   "source": [
    "p_naive_bayes_one = pxy_one[:,0]*pxy_one[:,1]*p_prior_one\n",
    "p_naive_bayes_two = pxy_two[:,0]*pxy_two[:,1]*p_prior_two"
   ]
  },
  {
   "cell_type": "code",
   "execution_count": 17,
   "metadata": {
    "ExecuteTime": {
     "end_time": "2023-06-16T09:54:19.250345Z",
     "start_time": "2023-06-16T09:54:19.238384Z"
    }
   },
   "outputs": [],
   "source": [
    "def computeybar(xTe, OFFSET):\n",
    "    \"\"\"\n",
    "    function [ybar]=computeybar(xTe, OFFSET);\n",
    "\n",
    "    computes the expected label 'ybar' for a set of inputs x\n",
    "    generated from two standard Normal distributions (one offset by OFFSET in\n",
    "    both dimensions.)\n",
    "\n",
    "    INPUT:\n",
    "    xTe : nx2 array of n vectors with 2 dimensions\n",
    "    OFFSET    : The OFFSET passed into the toyData function. The difference in the\n",
    "                mu of labels class1 and class2 for toyData.\n",
    "\n",
    "    OUTPUT:\n",
    "    ybar : a nx1 vector of the expected labels for vectors xTe\n",
    "    \"\"\"\n",
    "    n,temp = xTe.shape\n",
    "    ybar = np.zeros(n)\n",
    "    \n",
    "    # Feel free to use the following function to compute p(x|y), or not\n",
    "    # normal distribution is default mu = 0, sigma = 1.\n",
    "    normpdf = lambda x, mu, sigma: np.exp(-0.5 * np.power((x - mu) / sigma, 2)) / (np.sqrt(2 * np.pi) * sigma)\n",
    "    \n",
    "    ## fill in code here\n",
    "    #raise NotImplementedError('Your code goes here!')\n",
    "    \n",
    "    # probabilidade de pertencer a cada uma das distribuicoes\n",
    "    pxy_one = normpdf(xTe, np.zeros(temp), np.ones(temp))\n",
    "    pxy_two = normpdf(xTe, np.array([OFFSET]*temp), np.ones(temp))\n",
    "    \n",
    "    p_prior_one = 0.5\n",
    "    p_prior_two = 0.5\n",
    "    \n",
    "    # naive bayes assumption\n",
    "    # multiply individual conditional probabilities\n",
    "    p_naive_bayes_one = pxy_one[:,0]*pxy_one[:,1]*p_prior_one\n",
    "    p_naive_bayes_two = pxy_two[:,0]*pxy_two[:,1]*p_prior_two\n",
    "    \n",
    "    norm = p_naive_bayes_one + p_naive_bayes_two\n",
    "    \n",
    "    p_one = p_naive_bayes_one/norm\n",
    "    p_two = p_naive_bayes_two/norm\n",
    "    \n",
    "    label_class1 = 1\n",
    "    label_class2 = 2\n",
    "    \n",
    "    # Law of total probability\n",
    "    # Sum of expected values of each label\n",
    "    ybar = label_class1*p_one + label_class2*p_two\n",
    "    \n",
    "    return ybar"
   ]
  },
  {
   "cell_type": "code",
   "execution_count": 18,
   "metadata": {
    "ExecuteTime": {
     "end_time": "2023-06-16T09:54:19.727371Z",
     "start_time": "2023-06-16T09:54:19.722041Z"
    }
   },
   "outputs": [],
   "source": [
    "#</GRADED>"
   ]
  },
  {
   "cell_type": "markdown",
   "metadata": {},
   "source": [
    "**Visualizing the Data**:\n",
    "You can now see the error of the bayes classifier. Below is a plotting of the two classes of points and the misclassified points."
   ]
  },
  {
   "cell_type": "code",
   "execution_count": 19,
   "metadata": {
    "ExecuteTime": {
     "end_time": "2023-06-16T09:54:20.790676Z",
     "start_time": "2023-06-16T09:54:20.656599Z"
    }
   },
   "outputs": [
    {
     "name": "stdout",
     "output_type": "stream",
     "text": [
      "Error of Bayes classifier: 6.8%.\n"
     ]
    },
    {
     "data": {
      "image/png": "[encoded data removed]",
      "text/plain": [
       "<Figure size 720x432 with 1 Axes>"
      ]
     },
     "metadata": {
      "needs_background": "light"
     },
     "output_type": "display_data"
    }
   ],
   "source": [
    "OFFSET = 2\n",
    "xTe, yTe = toydata(OFFSET, 1000)\n",
    "\n",
    "# compute Bayes Error\n",
    "ybar = computeybar(xTe, OFFSET)\n",
    "predictions = np.round(ybar)\n",
    "errors = predictions != yTe\n",
    "err = errors.sum() / len(yTe) * 100\n",
    "print('Error of Bayes classifier: %.1f%%.' % err)\n",
    "\n",
    "# plot data\n",
    "i1 = yTe == 1\n",
    "i2 = yTe == 2\n",
    "plt.figure(figsize=(10,6))\n",
    "plt.scatter(xTe[i1, 0], xTe[i1, 1], c='r', marker='o')\n",
    "plt.scatter(xTe[i2, 0], xTe[i2, 1], c='b', marker='o')\n",
    "plt.scatter(xTe[errors, 0], xTe[errors, 1], c='k', s=100, alpha=0.2)\n",
    "plt.title(\"Plot of data (misclassified points highlighted)\")\n",
    "plt.show()"
   ]
  },
  {
   "cell_type": "markdown",
   "metadata": {},
   "source": [
    "<p>With the help of <strong>`computeybar`</strong> you can now compute the \"noise\" variable within <strong>`biasvariancedemo`</strong>. </p>"
   ]
  },
  {
   "cell_type": "markdown",
   "metadata": {},
   "source": [
    "**`kregression` Helper Function**: \n",
    "<br/>\n",
    "<strong>Important</strong> - $h_D$ is defined for you in <em><strong>`kregression`</strong></em>. It's kernelized ridge regression with kernel width $\\sigma$ and regularization constant $\\lambda$.\n",
    "<br/><br/>"
   ]
  },
  {
   "cell_type": "code",
   "execution_count": 20,
   "metadata": {
    "ExecuteTime": {
     "end_time": "2023-06-16T09:54:22.278596Z",
     "start_time": "2023-06-16T09:54:22.275314Z"
    }
   },
   "outputs": [],
   "source": [
    "#<GRADED>"
   ]
  },
  {
   "cell_type": "code",
   "execution_count": 21,
   "metadata": {
    "ExecuteTime": {
     "end_time": "2023-06-16T09:54:23.588252Z",
     "start_time": "2023-06-16T09:54:23.580340Z"
    }
   },
   "outputs": [],
   "source": [
    "def kregression(xTr,yTr,sigma=0.1,lmbda=0.01):\n",
    "    \"\"\"\n",
    "    function kregression(xTr,yTr,sigma,lmbda)\n",
    "    \n",
    "    Input:\n",
    "    xTr | training data (nx2)\n",
    "    yTr | training labels (nx1)\n",
    "    sigma | kernel width (>0)\n",
    "    lmbda | regularization constant (>0)\n",
    "    \n",
    "    Output:\n",
    "    fun | usage: predictions=fun(xTe);\n",
    "    \"\"\"\n",
    "    # applies kernel over x and z\n",
    "    # what is z?\n",
    "    # the same as x\n",
    "    kernel = lambda x, z: np.power(1+(np.power(l2distance(x,z),2) / (2 * np.power(sigma,2))),-4)\n",
    "    \n",
    "    ridge = lambda K, lmbda2: K + lmbda * np.eye(K.shape[0], K.shape[1])\n",
    "    \n",
    "    beta = np.linalg.solve(ridge(kernel(xTr, xTr), lmbda), yTr)\n",
    "    \n",
    "    fun = lambda Xt: np.dot(kernel(Xt, xTr), beta)\n",
    "    \n",
    "    return fun"
   ]
  },
  {
   "cell_type": "code",
   "execution_count": 36,
   "metadata": {
    "ExecuteTime": {
     "end_time": "2023-06-14T22:06:55.255401Z",
     "start_time": "2023-06-14T22:06:55.251060Z"
    }
   },
   "outputs": [],
   "source": [
    "#</GRADED>"
   ]
  },
  {
   "cell_type": "markdown",
   "metadata": {},
   "source": [
    "<p>\n",
    "(b) <strong>Bias:</strong> For the bias, you will need $\\bar{h}$. Although we cannot compute the expected value  $\\bar h\\!=\\!\\mathbb{E}[h]$, we can approximate it by training many $h_D$ and averaging their predictions. Edit the file <em><strong>`computehbar`</strong></em>. Average over <em>NMODELS</em> different $h_D$, each trained on a different data set of <em>Nsmall</em> inputs drawn from the same distribution. Feel free to call <em><strong>`toydata`</strong></em> to obtain more data sets. <br/><br/>\n",
    "</p>"
   ]
  },
  {
   "cell_type": "code",
   "execution_count": 37,
   "metadata": {
    "ExecuteTime": {
     "end_time": "2023-06-14T22:06:55.985134Z",
     "start_time": "2023-06-14T22:06:55.981733Z"
    }
   },
   "outputs": [],
   "source": [
    "#<GRADED>"
   ]
  },
  {
   "cell_type": "code",
   "execution_count": 86,
   "metadata": {
    "ExecuteTime": {
     "end_time": "2023-06-14T22:17:23.348497Z",
     "start_time": "2023-06-14T22:17:23.337479Z"
    }
   },
   "outputs": [],
   "source": [
    "def computehbar(xTe, sigma, lmbda, Nsmall, NMODELS, OFFSET):\n",
    "    \"\"\"\n",
    "    function [hbar]=computehbar(xTe, sigma, lmbda, NSmall, NMODELS, OFFSET);\n",
    "\n",
    "    computes the expected prediction of the average classifier (hbar)\n",
    "    for data set xTe. \n",
    "\n",
    "    The training data of size Nsmall is drawn from toydata with OFFSET \n",
    "    with kernel regression with sigma and lmbda\n",
    "    The \"infinite\" number of models is estimated as an average over NMODELS. \n",
    "\n",
    "    INPUT:\n",
    "    xTe       | nx2 matrix, of n column-wise input vectors (each 2-dimensional)\n",
    "    sigma     | kernel width of the RBF kernel\n",
    "    lmbda     | regularization constant\n",
    "    NSmall    | Number of points to subsample\n",
    "    NMODELS   | Number of Models to average over\n",
    "    OFFSET    | The OFFSET passed into the toyData function. The difference in the\n",
    "                mu of labels class1 and class2 for toyData.\n",
    "    OUTPUT:\n",
    "    hbar | nx1 vector with the predictions of hbar for each test input\n",
    "    \"\"\"\n",
    "    \n",
    "    # entra aqui alguns dados do toydata?\n",
    "    # divido esses dados NMODELS vezes\n",
    "    # treino , treino com que label que não tá aqui dentro? \n",
    "    # não treina, aqui só prediz\n",
    "    # mas não teria que treinar o modelo várias vezes?\n",
    "    # ou é o mesmo modelo, o mesmo h, enviesado, prevendo em diferentes entradas pontos de D?\n",
    "    # dado que hbar = ExpectedValue[h_D]\n",
    "    \n",
    "    # number of points in each dataset\n",
    "    \n",
    "    # training data, which we will use to train the model, (xTr, yTr) and predict using xTe (Test)\n",
    "    \n",
    "    hbar_predictions = []\n",
    "    for i in range(NMODELS):\n",
    "        \n",
    "        xTr, yTr = toydata(OFFSET, Nsmall)\n",
    "        small_h = kregression(xTr,yTr,sigma=sigma,lmbda=lmbda)\n",
    "        \n",
    "        # prediction\n",
    "        one_model_prediction = small_h(xTe)\n",
    "        \n",
    "        hbar_predictions.append(one_model_prediction)\n",
    "        \n",
    "    hbar_predictions = np.array(hbar_predictions)\n",
    "    hbar = np.mean(hbar_predictions, axis = 0)\n",
    "   \n",
    "    return hbar"
   ]
  },
  {
   "cell_type": "code",
   "execution_count": 92,
   "metadata": {
    "ExecuteTime": {
     "end_time": "2023-06-14T22:18:08.746954Z",
     "start_time": "2023-06-14T22:18:08.741254Z"
    }
   },
   "outputs": [],
   "source": [
    "# @vpb test code before continuing"
   ]
  },
  {
   "cell_type": "code",
   "execution_count": 93,
   "metadata": {
    "ExecuteTime": {
     "end_time": "2023-06-14T22:18:09.299563Z",
     "start_time": "2023-06-14T22:18:09.291128Z"
    }
   },
   "outputs": [],
   "source": [
    "# biasvariancedemo\n",
    "\n",
    "# how big is the training set size N\n",
    "Nsmall = 10\n",
    "# how big is a really big data set (approx. infinity)\n",
    "Nbig = 10000\n",
    "# how many models do you want to average over\n",
    "NMODELS = 100\n",
    "\n",
    "# vamos avaliar então sobre diferentes regularizers\n",
    "# What regularization constants to evaluate\n",
    "lmbdas = np.arange(-6, 0+0.5, 0.5)\n",
    "\n",
    "# what is the kernel width?\n",
    "# um único sigma, ok, o mesmo kernel sempre\n",
    "sigma = 4\n",
    "\n",
    "# we store\n",
    "Nlambdas = len(lmbdas)\n",
    "lbias = np.zeros(Nlambdas)\n",
    "lvariance = np.zeros(Nlambdas)\n",
    "ltotal = np.zeros(Nlambdas)\n",
    "lnoise = np.zeros(Nlambdas)\n",
    "lsum = np.zeros(Nlambdas)\n",
    "\n",
    "xTe,yTe = toydata(OFFSET,Nbig)\n",
    "\n",
    "hbar = computehbar(xTe, sigma, lmbda, Nsmall, NMODELS, OFFSET)\n",
    "\n",
    "# mean over all\n",
    "print(hbar.shape)"
   ]
  },
  {
   "cell_type": "code",
   "execution_count": 98,
   "metadata": {
    "ExecuteTime": {
     "end_time": "2023-06-14T22:18:25.317831Z",
     "start_time": "2023-06-14T22:18:25.312349Z"
    }
   },
   "outputs": [],
   "source": [
    "#</GRADED>"
   ]
  },
  {
   "cell_type": "markdown",
   "metadata": {},
   "source": [
    "<p>With the help of <strong>`computehbar`</strong> you can now compute the \"bias\" variable within <strong>`biasvariancedemo`</strong>. </p>"
   ]
  },
  {
   "cell_type": "markdown",
   "metadata": {},
   "source": [
    "\n",
    "<p>(c) <strong>Variance:</strong> Finally, to compute the variance, we need to compute the term $\\mathbb{E}[(h_D-\\bar{h})^2]$. Once again, we can approximate this term by averaging over  <em>NMODELS</em> models. Edit the file <em><strong>`computevariance`</strong></em>. \n",
    "<br/></br></p>"
   ]
  },
  {
   "cell_type": "code",
   "execution_count": 19,
   "metadata": {},
   "outputs": [],
   "source": [
    "#<GRADED>"
   ]
  },
  {
   "cell_type": "code",
   "execution_count": 119,
   "metadata": {
    "ExecuteTime": {
     "end_time": "2023-06-14T23:00:50.162061Z",
     "start_time": "2023-06-14T23:00:50.150841Z"
    }
   },
   "outputs": [],
   "source": [
    "def computevariance(xTe, sigma, lmbda, hbar, Nsmall, NMODELS, OFFSET):\n",
    "    \"\"\"\n",
    "    function variance=computevariance(xTe,sigma,lmbda,hbar,Nsmall,NMODELS,OFFSET)\n",
    "\n",
    "    computes the variance of classifiers trained on data sets from\n",
    "    toydata.m with pre-specified \"OFFSET\" and \n",
    "    with kernel regression with sigma and lmbda\n",
    "    evaluated on xTe. \n",
    "    the prediction of the average classifier is assumed to be stored in \"hbar\".\n",
    "\n",
    "    The \"infinite\" number of models is estimated as an average over NMODELS. \n",
    "\n",
    "    INPUT:\n",
    "    xTe       : nx2 matrix, of n column-wise input vectors (each 2-dimensional)\n",
    "    sigma     : kernel width of the RBF kernel\n",
    "    lmbda     : regularization constant\n",
    "    hbar      : nx1 vector of the predictions of hbar on the inputs xTe\n",
    "    Nsmall    : Number of samples drawn from toyData for one model\n",
    "    NModel    : Number of Models to average over\n",
    "    OFFSET    : The OFFSET passed into the toyData function. The difference in the\n",
    "                mu of labels class1 and class2 for toyData.\n",
    "    \"\"\"\n",
    "    \n",
    "    variances_D = []\n",
    "    for i in range(NMODELS):\n",
    "\n",
    "        xTr, yTr = toydata(OFFSET, Nsmall)\n",
    "        hD = kregression(xTr,yTr,sigma=sigma,lmbda=lmbda)\n",
    "\n",
    "        # prediction\n",
    "        hD_prediction = hD(xTe)\n",
    "\n",
    "        variance = np.mean((hbar - hD_prediction)**2)\n",
    "        variances_D.append(variance)\n",
    "    \n",
    "    return np.mean(variances_D)"
   ]
  },
  {
   "cell_type": "code",
   "execution_count": 120,
   "metadata": {
    "ExecuteTime": {
     "end_time": "2023-06-14T23:00:50.493296Z",
     "start_time": "2023-06-14T23:00:50.488588Z"
    }
   },
   "outputs": [],
   "source": [
    "#</GRADED>"
   ]
  },
  {
   "cell_type": "code",
   "execution_count": 121,
   "metadata": {
    "ExecuteTime": {
     "end_time": "2023-06-14T23:00:50.819040Z",
     "start_time": "2023-06-14T23:00:50.815083Z"
    }
   },
   "outputs": [],
   "source": [
    "# Test again this function before continue"
   ]
  },
  {
   "cell_type": "code",
   "execution_count": 122,
   "metadata": {
    "ExecuteTime": {
     "end_time": "2023-06-14T23:00:52.710070Z",
     "start_time": "2023-06-14T23:00:51.541008Z"
    }
   },
   "outputs": [],
   "source": [
    "# biasvariancedemo\n",
    "\n",
    "# how big is the training set size N\n",
    "Nsmall = 10\n",
    "# how big is a really big data set (approx. infinity)\n",
    "Nbig = 10000\n",
    "# how many models do you want to average over\n",
    "NMODELS = 100\n",
    "\n",
    "# vamos avaliar então sobre diferentes regularizers\n",
    "# What regularization constants to evaluate\n",
    "lmbdas = np.arange(-6, 0+0.5, 0.5)\n",
    "\n",
    "# what is the kernel width?\n",
    "# um único sigma, ok, o mesmo kernel sempre\n",
    "sigma = 4\n",
    "\n",
    "# we store\n",
    "Nlambdas = len(lmbdas)\n",
    "lbias = np.zeros(Nlambdas)\n",
    "lvariance = np.zeros(Nlambdas)\n",
    "ltotal = np.zeros(Nlambdas)\n",
    "lnoise = np.zeros(Nlambdas)\n",
    "lsum = np.zeros(Nlambdas)\n",
    "\n",
    "xTe,yTe = toydata(OFFSET,Nbig)\n",
    "\n",
    "hbar = computehbar(xTe, sigma, lmbda, Nsmall, NMODELS, OFFSET)\n",
    "variance = computevariance(xTe, sigma, lmbda, hbar, Nsmall, NMODELS, OFFSET)"
   ]
  },
  {
   "cell_type": "code",
   "execution_count": 123,
   "metadata": {
    "ExecuteTime": {
     "end_time": "2023-06-14T23:00:52.714149Z",
     "start_time": "2023-06-14T23:00:52.711950Z"
    }
   },
   "outputs": [
    {
     "name": "stdout",
     "output_type": "stream",
     "text": [
      "0.015968772164561412\n"
     ]
    }
   ],
   "source": [
    "print(variance)"
   ]
  },
  {
   "cell_type": "markdown",
   "metadata": {},
   "source": [
    "<p>With the help of <strong>`computevariance`</strong> you can now compute the \"variance\" variable within <strong>`biasvariancedemo`</strong>. </p>"
   ]
  },
  {
   "cell_type": "markdown",
   "metadata": {},
   "source": [
    "<p>If you did everything correctly and call execute the following demo. You should see how the error decomposes (roughly) into bias, variance and noise when regularization constant $\\lambda$ increases.</p>\n",
    "<br/>"
   ]
  },
  {
   "cell_type": "code",
   "execution_count": 124,
   "metadata": {
    "ExecuteTime": {
     "end_time": "2023-06-14T23:01:22.955665Z",
     "start_time": "2023-06-14T23:01:00.463755Z"
    }
   },
   "outputs": [
    {
     "name": "stdout",
     "output_type": "stream",
     "text": [
      "Regularization λ=2^-6.0: Bias: 0.0259 Variance: 0.0801 Noise: 0.0577 Bias+Variance+Noise: 0.1637 Test error: 0.1621\n",
      "Regularization λ=2^-5.5: Bias: 0.0234 Variance: 0.0660 Noise: 0.0596 Bias+Variance+Noise: 0.1491 Test error: 0.1541\n",
      "Regularization λ=2^-5.0: Bias: 0.0339 Variance: 0.0570 Noise: 0.0596 Bias+Variance+Noise: 0.1505 Test error: 0.1436\n",
      "Regularization λ=2^-4.5: Bias: 0.0335 Variance: 0.0547 Noise: 0.0588 Bias+Variance+Noise: 0.1470 Test error: 0.1418\n",
      "Regularization λ=2^-4.0: Bias: 0.0352 Variance: 0.0481 Noise: 0.0577 Bias+Variance+Noise: 0.1410 Test error: 0.1321\n",
      "Regularization λ=2^-3.5: Bias: 0.0378 Variance: 0.0430 Noise: 0.0593 Bias+Variance+Noise: 0.1401 Test error: 0.1356\n",
      "Regularization λ=2^-3.0: Bias: 0.0466 Variance: 0.0376 Noise: 0.0575 Bias+Variance+Noise: 0.1416 Test error: 0.1419\n",
      "Regularization λ=2^-2.5: Bias: 0.0519 Variance: 0.0366 Noise: 0.0582 Bias+Variance+Noise: 0.1467 Test error: 0.1541\n",
      "Regularization λ=2^-2.0: Bias: 0.0600 Variance: 0.0320 Noise: 0.0564 Bias+Variance+Noise: 0.1484 Test error: 0.1460\n",
      "Regularization λ=2^-1.5: Bias: 0.0726 Variance: 0.0257 Noise: 0.0575 Bias+Variance+Noise: 0.1558 Test error: 0.1606\n",
      "Regularization λ=2^-1.0: Bias: 0.0909 Variance: 0.0243 Noise: 0.0590 Bias+Variance+Noise: 0.1743 Test error: 0.1744\n",
      "Regularization λ=2^-0.5: Bias: 0.1209 Variance: 0.0198 Noise: 0.0579 Bias+Variance+Noise: 0.1986 Test error: 0.1880\n",
      "Regularization λ=2^0.0: Bias: 0.1644 Variance: 0.0170 Noise: 0.0591 Bias+Variance+Noise: 0.2405 Test error: 0.2357\n"
     ]
    }
   ],
   "source": [
    "# biasvariancedemo\n",
    "\n",
    "# how big is the training set size N\n",
    "Nsmall = 10\n",
    "# how big is a really big data set (approx. infinity)\n",
    "Nbig = 10000\n",
    "# how many models do you want to average over\n",
    "NMODELS = 100\n",
    "\n",
    "# vamos avaliar então sobre diferentes regularizers\n",
    "# What regularization constants to evaluate\n",
    "lmbdas = np.arange(-6, 0+0.5, 0.5)\n",
    "\n",
    "# what is the kernel width?\n",
    "# um único sigma, ok, o mesmo kernel sempre\n",
    "sigma = 4\n",
    "\n",
    "# we store\n",
    "Nlambdas = len(lmbdas)\n",
    "lbias = np.zeros(Nlambdas)\n",
    "lvariance = np.zeros(Nlambdas)\n",
    "ltotal = np.zeros(Nlambdas)\n",
    "lnoise = np.zeros(Nlambdas)\n",
    "lsum = np.zeros(Nlambdas)\n",
    "\n",
    "# Different regularization constant classifiers\n",
    "for md in range(Nlambdas):\n",
    "    \n",
    "    # diferentes lambdas, porque?\n",
    "    lmbda = 2 ** lmbdas[md]\n",
    "    # use this data set as an approximation of the true test set\n",
    "    \n",
    "    # full dataset\n",
    "    xTe,yTe = toydata(OFFSET,Nbig)\n",
    "    \n",
    "    # - Estimate AVERAGE ERROR (TOTAL)\n",
    "    total = 0\n",
    "    for j in range(NMODELS):\n",
    "        \n",
    "        # - small datasets from the same distribuition\n",
    "        xTr2,yTr2 = toydata(OFFSET,Nsmall)\n",
    "        \n",
    "        # - train small classifier (kregression returns a function which already was trained on data\n",
    "        fsmall = kregression(xTr2,yTr2,sigma,lmbda)\n",
    "        \n",
    "        # - and this last lambda function receives xTe, as in this next line\n",
    "        \n",
    "        # - TOTAL ERROR which will be sliced into variance, bias and noise terms, nice\n",
    "        total += np.mean((fsmall(xTe) - yTe) ** 2)\n",
    "        \n",
    "    total /= NMODELS\n",
    "    \n",
    "    # >>>>> NOISE\n",
    "    # Estimate Noise\n",
    "    ybar = computeybar(xTe, OFFSET)\n",
    "    noise = np.mean((yTe-ybar) ** 2)\n",
    "    \n",
    "    # >>>>>> BIAS\n",
    "    # Estimate Bias\n",
    "    hbar = computehbar(xTe,sigma, lmbda, Nsmall, NMODELS, OFFSET)\n",
    "    bias = np.mean((hbar-ybar) ** 2)\n",
    "    \n",
    "    # >>>>>> VARIANCE\n",
    "    # Estimating VARIANCE\n",
    "    \n",
    "    # - it's like np.mean(hbar - hD)\n",
    "    # so inside the computevariance, call toydata, get several hD models, and the mean of (hbar - hd)**2\n",
    "    variance = computevariance(xTe,sigma,lmbda,hbar, Nsmall, NMODELS, OFFSET)\n",
    "    \n",
    "    # print and store results\n",
    "    lbias[md] = bias\n",
    "    lvariance[md] = variance\n",
    "    ltotal[md] = total\n",
    "    lnoise[md] = noise\n",
    "    lsum[md] = lbias[md]+lvariance[md]+lnoise[md]\n",
    "\n",
    "    print('Regularization λ=2^%2.1f: Bias: %2.4f Variance: %2.4f Noise: %2.4f Bias+Variance+Noise: %2.4f Test error: %2.4f'\n",
    "          % (lmbdas[md],lbias[md],lvariance[md],lnoise[md],lsum[md],ltotal[md]))"
   ]
  },
  {
   "cell_type": "code",
   "execution_count": 126,
   "metadata": {
    "ExecuteTime": {
     "end_time": "2023-06-15T10:42:00.996770Z",
     "start_time": "2023-06-15T10:42:00.818417Z"
    }
   },
   "outputs": [
    {
     "data": {
      "image/png": "[encoded data removed]",
      "text/plain": [
       "<Figure size 720x432 with 1 Axes>"
      ]
     },
     "metadata": {
      "needs_background": "light"
     },
     "output_type": "display_data"
    }
   ],
   "source": [
    "#@ vpb\n",
    "# plot results\n",
    "plt.figure(figsize=(10,6))\n",
    "plt.plot(lbias[:Nlambdas],c='r',linestyle='-',linewidth=2)\n",
    "plt.plot(lvariance[:Nlambdas],c='k', linestyle='-',linewidth=2)\n",
    "plt.plot(lnoise[:Nlambdas],c='g', linestyle='-',linewidth=2)\n",
    "plt.plot(ltotal[:Nlambdas],c='b', linestyle='-',linewidth=2)\n",
    "plt.plot(lsum[:Nlambdas],c='k', linestyle='--',linewidth=2)\n",
    "\n",
    "plt.legend([\"Bias\",\"Variance\",\"Noise\",\"Test error\",\"Bias+Var+Noise\"]);\n",
    "plt.xlabel(\"Regularization $\\lambda=2^x$\",fontsize=18);\n",
    "plt.ylabel(\"Squared Error\",fontsize=18);\n",
    "plt.xticks([i for i in range(Nlambdas)],lmbdas);"
   ]
  },
  {
   "cell_type": "code",
   "execution_count": 23,
   "metadata": {},
   "outputs": [
    {
     "data": {
      "image/png": "[encoded data removed]",
      "text/plain": [
       "<Figure size 720x432 with 1 Axes>"
      ]
     },
     "metadata": {},
     "output_type": "display_data"
    }
   ],
   "source": [
    "# plot results\n",
    "plt.figure(figsize=(10,6))\n",
    "plt.plot(lbias[:Nlambdas],c='r',linestyle='-',linewidth=2)\n",
    "plt.plot(lvariance[:Nlambdas],c='k', linestyle='-',linewidth=2)\n",
    "plt.plot(lnoise[:Nlambdas],c='g', linestyle='-',linewidth=2)\n",
    "plt.plot(ltotal[:Nlambdas],c='b', linestyle='-',linewidth=2)\n",
    "plt.plot(lsum[:Nlambdas],c='k', linestyle='--',linewidth=2)\n",
    "\n",
    "plt.legend([\"Bias\",\"Variance\",\"Noise\",\"Test error\",\"Bias+Var+Noise\"]);\n",
    "plt.xlabel(\"Regularization $\\lambda=2^x$\",fontsize=18);\n",
    "plt.ylabel(\"Squared Error\",fontsize=18);\n",
    "plt.xticks([i for i in range(Nlambdas)],lmbdas);"
   ]
  },
  {
   "cell_type": "markdown",
   "metadata": {},
   "source": [
    "Feel free to modify $\\lambda$/$\\sigma$ in these two files. If you want the approximation to be more accurate, increase <em>NMODELS</em> and/or <em>Nbig</em> (the more models you train, the better your approximation will be for $\\mathbb{E}[h]$ and $\\mathbb{E}[(h_D-\\bar{h})^2]$). \n",
    "You can also play around with the variable <em>Nsmall</em> which regulates how big your actual training is supposed to be. \n",
    "</p>\n",
    "\n",
    "\n",
    "<h3>Note</h3>\n",
    "<p>\n",
    "When computing the bias and variance, you approximate the results by training many $h_D$. We set <em>NMODELS</em>=1000 and use some thresholds to test if your functions' results are correct. Unfortunately, as a result of this randomness, there is still a small chance that you will fail some test cases, even though your implementations are correct. <br/><br/>\n",
    "If you can pass all the tests most of the times locally, then you are fine. In this case, if the autograder says your accuracy is not 100%, just commit the code again.<br/><br/>\n",
    "\n",
    "There is no competition this time.\n",
    "</p>"
   ]
  }
 ],
 "metadata": {
  "kernelspec": {
   "display_name": "Python 3 (ipykernel)",
   "language": "python",
   "name": "python3"
  },
  "language_info": {
   "codemirror_mode": {
    "name": "ipython",
    "version": 3
   },
   "file_extension": ".py",
   "mimetype": "text/x-python",
   "name": "python",
   "nbconvert_exporter": "python",
   "pygments_lexer": "ipython3",
   "version": "3.8.15"
  },
  "toc": {
   "base_numbering": 1,
   "nav_menu": {},
   "number_sections": true,
   "sideBar": true,
   "skip_h1_title": false,
   "title_cell": "Table of Contents",
   "title_sidebar": "Contents",
   "toc_cell": false,
   "toc_position": {},
   "toc_section_display": true,
   "toc_window_display": false
  }
 },
 "nbformat": 4,
 "nbformat_minor": 1
}
