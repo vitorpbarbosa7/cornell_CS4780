{
 "cells": [
  {
   "cell_type": "code",
   "execution_count": 25,
   "id": "7dc35f34",
   "metadata": {
    "ExecuteTime": {
     "end_time": "2023-04-04T10:19:17.462582Z",
     "start_time": "2023-04-04T10:19:17.458756Z"
    }
   },
   "outputs": [],
   "source": [
    "import numpy as np\n",
    "from numpy import array as ar\n",
    "import pandas as pd"
   ]
  },
  {
   "cell_type": "code",
   "execution_count": 38,
   "id": "460227cb",
   "metadata": {
    "ExecuteTime": {
     "end_time": "2023-04-04T10:21:04.338385Z",
     "start_time": "2023-04-04T10:21:04.334024Z"
    }
   },
   "outputs": [],
   "source": [
    "X = ar([1,1,1,1,1,2,2,2,2,2])"
   ]
  },
  {
   "cell_type": "code",
   "execution_count": 27,
   "id": "e9e2ce0d",
   "metadata": {
    "ExecuteTime": {
     "end_time": "2023-04-04T10:19:17.475805Z",
     "start_time": "2023-04-04T10:19:17.472209Z"
    }
   },
   "outputs": [],
   "source": [
    "Y = ar([0,0,0,1,0,1,0,0,0,0])"
   ]
  },
  {
   "cell_type": "code",
   "execution_count": 79,
   "id": "ff97b820",
   "metadata": {
    "ExecuteTime": {
     "end_time": "2023-04-04T10:48:41.430358Z",
     "start_time": "2023-04-04T10:48:41.426618Z"
    }
   },
   "outputs": [],
   "source": [
    "y_unique = np.unique(Y)"
   ]
  },
  {
   "cell_type": "code",
   "execution_count": 80,
   "id": "a2a6ae59",
   "metadata": {
    "ExecuteTime": {
     "end_time": "2023-04-04T10:48:41.712160Z",
     "start_time": "2023-04-04T10:48:41.708924Z"
    }
   },
   "outputs": [],
   "source": [
    "y_count = len(y_unique)"
   ]
  },
  {
   "cell_type": "code",
   "execution_count": 76,
   "id": "2d1a49a7",
   "metadata": {
    "ExecuteTime": {
     "end_time": "2023-04-04T10:48:13.013001Z",
     "start_time": "2023-04-04T10:48:13.008736Z"
    }
   },
   "outputs": [],
   "source": [
    "x_unique = np.unique(X)"
   ]
  },
  {
   "cell_type": "code",
   "execution_count": 77,
   "id": "b7f99024",
   "metadata": {
    "ExecuteTime": {
     "end_time": "2023-04-04T10:48:15.522682Z",
     "start_time": "2023-04-04T10:48:15.518744Z"
    }
   },
   "outputs": [],
   "source": [
    "x_count = len(x_unique)"
   ]
  },
  {
   "cell_type": "code",
   "execution_count": 39,
   "id": "541ad65b",
   "metadata": {
    "ExecuteTime": {
     "end_time": "2023-04-04T10:21:05.327591Z",
     "start_time": "2023-04-04T10:21:05.323513Z"
    }
   },
   "outputs": [],
   "source": [
    "X_given_y = [X[Y == y] for y in np.unique(Y)]"
   ]
  },
  {
   "cell_type": "code",
   "execution_count": 40,
   "id": "f6f29c11",
   "metadata": {
    "ExecuteTime": {
     "end_time": "2023-04-04T10:21:06.575510Z",
     "start_time": "2023-04-04T10:21:06.570168Z"
    }
   },
   "outputs": [
    {
     "data": {
      "text/plain": [
       "[array([1, 1, 1, 1, 2, 2, 2, 2]), array([1, 2])]"
      ]
     },
     "execution_count": 40,
     "metadata": {},
     "output_type": "execute_result"
    }
   ],
   "source": [
    "X_given_y"
   ]
  },
  {
   "cell_type": "code",
   "execution_count": 52,
   "id": "05623695",
   "metadata": {
    "ExecuteTime": {
     "end_time": "2023-04-04T10:31:11.646842Z",
     "start_time": "2023-04-04T10:31:11.641019Z"
    }
   },
   "outputs": [
    {
     "data": {
      "text/plain": [
       "array([1, 1, 1, 1])"
      ]
     },
     "execution_count": 52,
     "metadata": {},
     "output_type": "execute_result"
    }
   ],
   "source": [
    "X[(X == 1) & (Y == 0)]"
   ]
  },
  {
   "cell_type": "code",
   "execution_count": 54,
   "id": "1635ad67",
   "metadata": {
    "ExecuteTime": {
     "end_time": "2023-04-04T10:33:16.806684Z",
     "start_time": "2023-04-04T10:33:16.799333Z"
    }
   },
   "outputs": [
    {
     "data": {
      "text/plain": [
       "matrix([[0]])"
      ]
     },
     "execution_count": 54,
     "metadata": {},
     "output_type": "execute_result"
    }
   ],
   "source": [
    "prob_table"
   ]
  },
  {
   "cell_type": "code",
   "execution_count": 102,
   "id": "c28f0fdb",
   "metadata": {
    "ExecuteTime": {
     "end_time": "2023-04-04T10:54:31.127341Z",
     "start_time": "2023-04-04T10:54:31.117144Z"
    }
   },
   "outputs": [],
   "source": [
    "prob_table = np.zeros((x_count,y_count))\n",
    "priors = np.zeros(y_count)\n",
    "x_normalization = np.zeros(x_count)\n",
    "n_points = len(Y)\n",
    "for i, x in enumerate(np.unique(X)):\n",
    "    x_normalization[i] = len(X[X == x])/n_points\n",
    "    for j, y in enumerate(np.unique(Y)):\n",
    "        denominator = len(Y[Y == y])\n",
    "        \n",
    "        numerator = len(X[(X == x) & (Y == y)])\n",
    "        prob = numerator/denominator\n",
    "        prob_table[i,j] = prob\n",
    "\n",
    "for j, y in enumerate(np.unique(Y)):\n",
    "    denominator = len(Y[Y == y])\n",
    "    priors[j] = denominator/n_points\n",
    "    "
   ]
  },
  {
   "cell_type": "code",
   "execution_count": 103,
   "id": "a407cea6",
   "metadata": {
    "ExecuteTime": {
     "end_time": "2023-04-04T10:54:31.992824Z",
     "start_time": "2023-04-04T10:54:31.987202Z"
    }
   },
   "outputs": [
    {
     "data": {
      "text/plain": [
       "array([[0.5, 0.5],\n",
       "       [0.5, 0.5]])"
      ]
     },
     "execution_count": 103,
     "metadata": {},
     "output_type": "execute_result"
    }
   ],
   "source": [
    "prob_table"
   ]
  },
  {
   "cell_type": "code",
   "execution_count": 104,
   "id": "1240f7e7",
   "metadata": {
    "ExecuteTime": {
     "end_time": "2023-04-04T10:54:33.354082Z",
     "start_time": "2023-04-04T10:54:33.349242Z"
    }
   },
   "outputs": [],
   "source": [
    "prob_table = pd.DataFrame(prob_table, columns = x_unique, index = y_unique)"
   ]
  },
  {
   "cell_type": "code",
   "execution_count": 105,
   "id": "23c5afe1",
   "metadata": {
    "ExecuteTime": {
     "end_time": "2023-04-04T10:54:34.736002Z",
     "start_time": "2023-04-04T10:54:34.731860Z"
    }
   },
   "outputs": [],
   "source": [
    "priors = pd.DataFrame(priors, index = y_unique)"
   ]
  },
  {
   "cell_type": "code",
   "execution_count": 106,
   "id": "21a6b68b",
   "metadata": {
    "ExecuteTime": {
     "end_time": "2023-04-04T10:54:36.507920Z",
     "start_time": "2023-04-04T10:54:36.503931Z"
    }
   },
   "outputs": [],
   "source": [
    "x_normalization = pd.DataFrame(x_normalization, index = x_unique)"
   ]
  },
  {
   "cell_type": "code",
   "execution_count": 108,
   "id": "16cd84ae",
   "metadata": {
    "ExecuteTime": {
     "end_time": "2023-04-04T10:54:44.290943Z",
     "start_time": "2023-04-04T10:54:44.287368Z"
    }
   },
   "outputs": [],
   "source": [
    "X_test = ar([1])"
   ]
  },
  {
   "cell_type": "code",
   "execution_count": 110,
   "id": "c49d2a4e",
   "metadata": {
    "ExecuteTime": {
     "end_time": "2023-04-04T10:55:12.015643Z",
     "start_time": "2023-04-04T10:55:12.006309Z"
    }
   },
   "outputs": [],
   "source": [
    "predict_proba = np.ones(len(y_unique))\n",
    "for i,y in enumerate(y_unique):\n",
    "    x_value = X_test[0]\n",
    "    likelihood = prob_table[x_value][y]\n",
    "    prior = priors.loc[y]\n",
    "    x_norm = x_normalization.loc[x_value]\n",
    "    \n",
    "    predict_proba[i] = (likelihood*prior)/x_norm"
   ]
  },
  {
   "cell_type": "code",
   "execution_count": 111,
   "id": "d63990b9",
   "metadata": {
    "ExecuteTime": {
     "end_time": "2023-04-04T10:55:15.807524Z",
     "start_time": "2023-04-04T10:55:15.802006Z"
    }
   },
   "outputs": [
    {
     "data": {
      "text/plain": [
       "array([0.8, 0.2])"
      ]
     },
     "execution_count": 111,
     "metadata": {},
     "output_type": "execute_result"
    }
   ],
   "source": [
    "predict_proba"
   ]
  }
 ],
 "metadata": {
  "kernelspec": {
   "display_name": "Python 3 (ipykernel)",
   "language": "python",
   "name": "python3"
  },
  "language_info": {
   "codemirror_mode": {
    "name": "ipython",
    "version": 3
   },
   "file_extension": ".py",
   "mimetype": "text/x-python",
   "name": "python",
   "nbconvert_exporter": "python",
   "pygments_lexer": "ipython3",
   "version": "3.8.15"
  },
  "toc": {
   "base_numbering": 1,
   "nav_menu": {},
   "number_sections": true,
   "sideBar": true,
   "skip_h1_title": false,
   "title_cell": "Table of Contents",
   "title_sidebar": "Contents",
   "toc_cell": false,
   "toc_position": {},
   "toc_section_display": true,
   "toc_window_display": false
  }
 },
 "nbformat": 4,
 "nbformat_minor": 5
}
