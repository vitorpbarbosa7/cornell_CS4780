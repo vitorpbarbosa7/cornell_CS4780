{
 "cells": [
  {
   "cell_type": "code",
   "execution_count": 19,
   "id": "4d4660e7",
   "metadata": {
    "ExecuteTime": {
     "end_time": "2023-04-05T11:51:52.745092Z",
     "start_time": "2023-04-05T11:51:52.726573Z"
    }
   },
   "outputs": [],
   "source": [
    "import numpy as np\n",
    "from numpy import array as ar\n",
    "import pandas as pd\n",
    "\n",
    "\n",
    "class NaiveBayesSingleVar:\n",
    "\n",
    "    def __init__(self):\n",
    "         pass\n",
    "        \n",
    "    def fit(self, X_train, Y_train):\n",
    "\n",
    "        self.Y_unique = np.unique(Y_train)\n",
    "        \n",
    "        self.y_count = len(self.Y_unique)\n",
    "        self.X_unique = np.unique(X_train)\n",
    "        \n",
    "        self.x_count = len(self.X_unique)\n",
    "        self.__X_given_y = [X_train[Y_train == y] for y in np.unique(Y_train)]\n",
    "\n",
    "        prob_table = np.zeros((self.x_count,self.y_count))\n",
    "        priors = np.zeros(self.y_count)\n",
    "        x_normalization = np.zeros(self.x_count)\n",
    "        n_points = len(Y_train)\n",
    "        for i, x in enumerate(self.X_unique):\n",
    "            x_normalization[i] = len(X_train[X_train == x])/n_points\n",
    "            for j, y in enumerate(self.Y_unique):\n",
    "                denominator = len(Y_train[Y_train == y])\n",
    "                \n",
    "                numerator = len(X_train[(X_train == x) & (Y_train == y)])\n",
    "                prob = numerator/denominator\n",
    "                prob_table[i,j] = prob\n",
    "\n",
    "        for j, y in enumerate(self.Y_unique):\n",
    "            denominator = len(Y_train[Y_train == y])\n",
    "            priors[j] = denominator/n_points\n",
    "\n",
    "        self.prob_table = pd.DataFrame(prob_table.T, columns = self.X_unique, index = self.Y_unique)\n",
    "        self.priors = pd.DataFrame(priors, index = self.Y_unique)\n",
    "        self.x_normalization = pd.DataFrame(x_normalization, index = self.X_unique)\n",
    "\n",
    "\n",
    "    def predict_proba(self, X_test):\n",
    "\n",
    "        x_test_len = len(X_test)\n",
    "\n",
    "        results = np.ones((x_test_len, len(self.Y_unique)))\n",
    "        for i, x_test in enumerate(X_test):\n",
    "            for j,y in enumerate(self.Y_unique):\n",
    "                likelihood = self.prob_table[x_test][y]\n",
    "                prior = self.priors.loc[y]\n",
    "                x_norm =self.x_normalization.loc[x_test]\n",
    "                \n",
    "                results[i,j] = (likelihood*prior)/x_norm\n",
    "\n",
    "        return results"
   ]
  },
  {
   "cell_type": "code",
   "execution_count": 31,
   "id": "66e33807",
   "metadata": {
    "ExecuteTime": {
     "end_time": "2023-04-05T11:52:48.388434Z",
     "start_time": "2023-04-05T11:52:48.367518Z"
    }
   },
   "outputs": [],
   "source": [
    "class NaiveBayesCategorical:\n",
    "\n",
    "    def __init__(self):\n",
    "        pass\n",
    "\n",
    "\n",
    "    def fit(self, X_train:np.array, Y_train:np.array):\n",
    "        self.X_train = X_train\n",
    "        self.__prob_table_dd = []\n",
    "        self.__X_normalization_dd = []\n",
    "\n",
    "        for X_train_single_feature in self.X_train[:,]:\n",
    "            naivebayes_single_var = NaiveBayesSingleVar()\n",
    "            naivebayes_single_var.fit(X_train_single_feature, Y_train)\n",
    "\n",
    "            self.__prob_table_dd.append(naivebayes_single_var.prob_table)\n",
    "            self.__X_normalization_dd.append(naivebayes_single_var.x_normalization)\n",
    "\n",
    "        self.__priors = naivebayes_single_var.priors\n",
    "\n",
    "        self.Y_unique = naivebayes_single_var.Y_unique\n",
    "\n",
    "\n",
    "    def predict_proba(self, X_test:np.array):\n",
    "        results = np.zeros((X_test.shape[0], len(self.Y_unique)))\n",
    "        for i, x_test in enumerate(X_test):\n",
    "            for j, y in enumerate(self.Y_unique):\n",
    "\n",
    "                likelihood = []\n",
    "                prior = self.__priors.loc[y][0]\n",
    "                x_norm = []\n",
    "                \n",
    "                # Naive Bayes Assumption of independence among dimensions\n",
    "                for d in range(self.X_train[:,].shape[0]):\n",
    "                    x_test_d = x_test[d]\n",
    "                    \n",
    "                    likelihood.append(self.__prob_table_dd[d][x_test_d][y])\n",
    "                    x_norm.append(self.__X_normalization_dd[d].loc[x_test_d])\n",
    "                \n",
    "                likelihood_prod = np.prod(likelihood)\n",
    "        #         print(likelihood_prod)\n",
    "                posterior_numerator = likelihood_prod*prior\n",
    "        #         print(posterior_numerator)\n",
    "                posterior_denominator = np.prod(x_norm)\n",
    "        #         print(posterior_denominator)\n",
    "\n",
    "                posterior = posterior_numerator/posterior_denominator\n",
    "                \n",
    "                results[i,j] = posterior\n",
    "\n",
    "\n",
    "        return results"
   ]
  },
  {
   "cell_type": "markdown",
   "id": "18e65c5e",
   "metadata": {
    "ExecuteTime": {
     "end_time": "2023-04-05T11:27:04.164398Z",
     "start_time": "2023-04-05T11:27:04.161351Z"
    }
   },
   "source": [
    "# test data\n",
    "## https://medium.com/@rangavamsi5/naïve-bayes-algorithm-implementation-from-scratch-in-python-7b2cc39268b9"
   ]
  },
  {
   "cell_type": "code",
   "execution_count": 32,
   "id": "12a90338",
   "metadata": {
    "ExecuteTime": {
     "end_time": "2023-04-05T11:52:48.823904Z",
     "start_time": "2023-04-05T11:52:48.807262Z"
    }
   },
   "outputs": [],
   "source": [
    "df = pd.read_csv('naivebayes/toy_data.csv')\n",
    "\n",
    "X_train = df.drop('Play', axis = 1).values.T\n",
    "\n",
    "X_train\n",
    "\n",
    "Y_train = df['Play'].values"
   ]
  },
  {
   "cell_type": "code",
   "execution_count": 33,
   "id": "76517724",
   "metadata": {
    "ExecuteTime": {
     "end_time": "2023-04-05T11:52:48.964096Z",
     "start_time": "2023-04-05T11:52:48.960145Z"
    }
   },
   "outputs": [],
   "source": [
    " X_test = ar([['Rainy','Mild','Normal','t']])"
   ]
  },
  {
   "cell_type": "code",
   "execution_count": 34,
   "id": "eedc842e",
   "metadata": {
    "ExecuteTime": {
     "end_time": "2023-04-05T11:52:49.110742Z",
     "start_time": "2023-04-05T11:52:49.107232Z"
    }
   },
   "outputs": [],
   "source": [
    "nb = NaiveBayesCategorical()"
   ]
  },
  {
   "cell_type": "code",
   "execution_count": 35,
   "id": "ad9ee37b",
   "metadata": {
    "ExecuteTime": {
     "end_time": "2023-04-05T11:52:49.328033Z",
     "start_time": "2023-04-05T11:52:49.320083Z"
    }
   },
   "outputs": [],
   "source": [
    "nb.fit(X_train, Y_train)"
   ]
  },
  {
   "cell_type": "code",
   "execution_count": 36,
   "id": "ddc3b96d",
   "metadata": {
    "ExecuteTime": {
     "end_time": "2023-04-05T11:52:49.867376Z",
     "start_time": "2023-04-05T11:52:49.858472Z"
    }
   },
   "outputs": [
    {
     "data": {
      "text/plain": [
       "array([[0.3136    , 0.43017833]])"
      ]
     },
     "execution_count": 36,
     "metadata": {},
     "output_type": "execute_result"
    }
   ],
   "source": [
    "nb.predict_proba(X_test)"
   ]
  }
 ],
 "metadata": {
  "kernelspec": {
   "display_name": "Python 3 (ipykernel)",
   "language": "python",
   "name": "python3"
  },
  "language_info": {
   "codemirror_mode": {
    "name": "ipython",
    "version": 3
   },
   "file_extension": ".py",
   "mimetype": "text/x-python",
   "name": "python",
   "nbconvert_exporter": "python",
   "pygments_lexer": "ipython3",
   "version": "3.8.15"
  },
  "toc": {
   "base_numbering": 1,
   "nav_menu": {},
   "number_sections": true,
   "sideBar": true,
   "skip_h1_title": false,
   "title_cell": "Table of Contents",
   "title_sidebar": "Contents",
   "toc_cell": false,
   "toc_position": {},
   "toc_section_display": true,
   "toc_window_display": false
  }
 },
 "nbformat": 4,
 "nbformat_minor": 5
}
